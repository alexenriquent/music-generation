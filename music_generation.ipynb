{
 "cells": [
  {
   "cell_type": "markdown",
   "id": "d1f081b8-d424-4d94-9c8c-7a6a1445245b",
   "metadata": {},
   "source": [
    "# Music Generation\n",
    "This project is an attempt to tackle the task of music generation using a Recurrent Neural Network with Long Short-Term Memory (LSTM) trained on the MAESTRO data with the help of TensorFlow and Keras deep learning frameworks for model development."
   ]
  },
  {
   "cell_type": "markdown",
   "id": "d8f33a86-b2e2-4929-9147-586f434f95ee",
   "metadata": {},
   "source": [
    "## Essential Libraries\n",
    "Download and install the pretty midi library and import all the essential libraries that are required for this project."
   ]
  },
  {
   "cell_type": "code",
   "execution_count": 1,
   "id": "0a0d0da0-9377-4a8d-ba20-2b2e096dda9e",
   "metadata": {},
   "outputs": [
    {
     "name": "stdout",
     "output_type": "stream",
     "text": [
      "Requirement already satisfied: pretty_midi in /usr/local/lib/python3.9/dist-packages (0.2.9)\n",
      "Requirement already satisfied: numpy>=1.7.0 in /usr/local/lib/python3.9/dist-packages (from pretty_midi) (1.23.1)\n",
      "Requirement already satisfied: mido>=1.1.16 in /usr/local/lib/python3.9/dist-packages (from pretty_midi) (1.2.10)\n",
      "Requirement already satisfied: six in /usr/lib/python3/dist-packages (from pretty_midi) (1.14.0)\n",
      "\u001b[33mWARNING: Running pip as the 'root' user can result in broken permissions and conflicting behaviour with the system package manager. It is recommended to use a virtual environment instead: https://pip.pypa.io/warnings/venv\u001b[0m\u001b[33m\n",
      "\u001b[0m"
     ]
    }
   ],
   "source": [
    "!pip install pretty_midi"
   ]
  },
  {
   "cell_type": "code",
   "execution_count": 2,
   "id": "bcb746ec-f6f4-43a9-b10a-fbc4bf2d717d",
   "metadata": {},
   "outputs": [],
   "source": [
    "import tensorflow as tf\n",
    "import numpy as np\n",
    "import pandas as pd\n",
    "import collections\n",
    "import datetime\n",
    "import glob\n",
    "import pathlib\n",
    "import pretty_midi\n",
    "import matplotlib.pyplot as plt\n",
    "import seaborn as sns\n",
    "import shutil\n",
    "\n",
    "from typing import Dict, List, Optional, Sequence, Tuple\n",
    "from IPython import display"
   ]
  },
  {
   "cell_type": "markdown",
   "id": "c81e6e9b-a11b-430c-884c-c08e6a074762",
   "metadata": {},
   "source": [
    "## Data Preparation\n",
    "We will use the [MAESTRO](https://magenta.tensorflow.org/datasets/maestro#v200) dataset, which contains multiple MIDI files with numerous piano notes that our model can use for training. \n",
    "\n",
    "Start with downloading and extracting the dataset."
   ]
  },
  {
   "cell_type": "code",
   "execution_count": 3,
   "id": "05f83425-e82e-4d0a-9ada-0008b1f3e1a1",
   "metadata": {},
   "outputs": [
    {
     "name": "stdout",
     "output_type": "stream",
     "text": [
      "Downloading...\n",
      "From: https://storage.googleapis.com/magentadata/datasets/maestro/v2.0.0/maestro-v2.0.0-midi.zip\n",
      "To: /notebooks/maestro-v2.0.0-midi.zip\n",
      "100%|██████████████████████████████████████| 59.2M/59.2M [00:00<00:00, 78.7MB/s]\n"
     ]
    }
   ],
   "source": [
    "!gdown --fuzzy 'https://storage.googleapis.com/magentadata/datasets/maestro/v2.0.0/maestro-v2.0.0-midi.zip'"
   ]
  },
  {
   "cell_type": "code",
   "execution_count": 4,
   "id": "ad9153f5-e54c-4a9d-85eb-f88ac24d3740",
   "metadata": {},
   "outputs": [],
   "source": [
    "zip_path = 'maestro-v2.0.0-midi.zip'\n",
    "shutil.unpack_archive(zip_path)"
   ]
  },
  {
   "cell_type": "code",
   "execution_count": 5,
   "id": "c5fff47e-ac37-4cd0-a3e2-631639414a29",
   "metadata": {},
   "outputs": [
    {
     "name": "stdout",
     "output_type": "stream",
     "text": [
      "The dataset contains 1282 MIDI files.\n"
     ]
    }
   ],
   "source": [
    "data_directory = pathlib.Path('maestro-v2.0.0')\n",
    "filenames = glob.glob(str(data_directory/'**/*.mid*'))\n",
    "\n",
    "print('The dataset contains {} MIDI files.'.format(len(filenames)))"
   ]
  },
  {
   "cell_type": "markdown",
   "id": "f2ede78e-b3f3-46f9-b2a8-89d272c8a826",
   "metadata": {},
   "source": [
    "Take a look at a sample file."
   ]
  },
  {
   "cell_type": "code",
   "execution_count": 6,
   "id": "ed7bfc14-333f-40e9-8e49-ef1182168951",
   "metadata": {},
   "outputs": [
    {
     "name": "stdout",
     "output_type": "stream",
     "text": [
      "Sample File: maestro-v2.0.0/2004/MIDI-Unprocessed_XP_08_R1_2004_03_ORIG_MID--AUDIO_08_R1_2004_03_Track03_wav.midi\n",
      "Instrument Name: Acoustic Grand Piano\n",
      "0: pitch=67, note_name=G4, duration=1.0000\n",
      "1: pitch=65, note_name=F4, duration=1.7542\n",
      "2: pitch=63, note_name=D#4, duration=2.4406\n",
      "3: pitch=61, note_name=C#4, duration=3.0969\n",
      "4: pitch=59, note_name=B3, duration=3.8062\n"
     ]
    }
   ],
   "source": [
    "sample_file = filenames[0]\n",
    "print('Sample File: {}'.format(sample_file))\n",
    "\n",
    "pm = pretty_midi.PrettyMIDI(sample_file)\n",
    "\n",
    "for instrument in pm.instruments:\n",
    "    instrument_name = pretty_midi.program_to_instrument_name(instrument.program)\n",
    "    print('Instrument Name: {}'.format(instrument_name))\n",
    "    \n",
    "    for i, note in enumerate(instrument.notes[:5]):\n",
    "        note_name = pretty_midi.note_number_to_name(note.pitch)\n",
    "        duration = note.end = note.start\n",
    "        print('{}: pitch={}, note_name={}, duration={:.4f}'.format(i, note.pitch, note_name, duration))"
   ]
  },
  {
   "cell_type": "markdown",
   "id": "f7477705-a423-44f1-ba9b-24b3de52f745",
   "metadata": {},
   "source": [
    "Extract the note information into a dataframe."
   ]
  },
  {
   "cell_type": "code",
   "execution_count": 7,
   "id": "3f952627-ca84-4e6f-90d0-d1882303de47",
   "metadata": {},
   "outputs": [],
   "source": [
    "def midi_to_notes(file_path) -> pd.DataFrame:\n",
    "    pm = pretty_midi.PrettyMIDI(file_path)\n",
    "    instrument = pm.instruments[0]\n",
    "    notes = collections.defaultdict(list)\n",
    "    notes_sorted = sorted(instrument.notes, key=lambda x: x.start)\n",
    "    prev_start = notes_sorted[0].start\n",
    "    \n",
    "    for note in notes_sorted:\n",
    "        notes['pitch'].append(note.pitch)\n",
    "        notes['start'].append(note.start)\n",
    "        notes['end'].append(note.end)\n",
    "        notes['step'].append(note.start - prev_start)\n",
    "        notes['duration'].append(note.end - note.start)\n",
    "        prev_start = note.start\n",
    "        \n",
    "    df = pd.DataFrame({name: np.array(value) for name, value in notes.items()})\n",
    "    return df"
   ]
  },
  {
   "cell_type": "code",
   "execution_count": 8,
   "id": "b7b50127-a844-4c0e-bd78-38ad7c6a2da5",
   "metadata": {},
   "outputs": [
    {
     "data": {
      "text/html": [
       "<div>\n",
       "<style scoped>\n",
       "    .dataframe tbody tr th:only-of-type {\n",
       "        vertical-align: middle;\n",
       "    }\n",
       "\n",
       "    .dataframe tbody tr th {\n",
       "        vertical-align: top;\n",
       "    }\n",
       "\n",
       "    .dataframe thead th {\n",
       "        text-align: right;\n",
       "    }\n",
       "</style>\n",
       "<table border=\"1\" class=\"dataframe\">\n",
       "  <thead>\n",
       "    <tr style=\"text-align: right;\">\n",
       "      <th></th>\n",
       "      <th>pitch</th>\n",
       "      <th>start</th>\n",
       "      <th>end</th>\n",
       "      <th>step</th>\n",
       "      <th>duration</th>\n",
       "    </tr>\n",
       "  </thead>\n",
       "  <tbody>\n",
       "    <tr>\n",
       "      <th>0</th>\n",
       "      <td>67</td>\n",
       "      <td>1.000000</td>\n",
       "      <td>1.590625</td>\n",
       "      <td>0.000000</td>\n",
       "      <td>0.590625</td>\n",
       "    </tr>\n",
       "    <tr>\n",
       "      <th>1</th>\n",
       "      <td>65</td>\n",
       "      <td>1.754167</td>\n",
       "      <td>2.130208</td>\n",
       "      <td>0.754167</td>\n",
       "      <td>0.376042</td>\n",
       "    </tr>\n",
       "    <tr>\n",
       "      <th>2</th>\n",
       "      <td>63</td>\n",
       "      <td>2.440625</td>\n",
       "      <td>2.879167</td>\n",
       "      <td>0.686458</td>\n",
       "      <td>0.438542</td>\n",
       "    </tr>\n",
       "    <tr>\n",
       "      <th>3</th>\n",
       "      <td>61</td>\n",
       "      <td>3.096875</td>\n",
       "      <td>3.407292</td>\n",
       "      <td>0.656250</td>\n",
       "      <td>0.310417</td>\n",
       "    </tr>\n",
       "    <tr>\n",
       "      <th>4</th>\n",
       "      <td>59</td>\n",
       "      <td>3.806250</td>\n",
       "      <td>4.203125</td>\n",
       "      <td>0.709375</td>\n",
       "      <td>0.396875</td>\n",
       "    </tr>\n",
       "  </tbody>\n",
       "</table>\n",
       "</div>"
      ],
      "text/plain": [
       "   pitch     start       end      step  duration\n",
       "0     67  1.000000  1.590625  0.000000  0.590625\n",
       "1     65  1.754167  2.130208  0.754167  0.376042\n",
       "2     63  2.440625  2.879167  0.686458  0.438542\n",
       "3     61  3.096875  3.407292  0.656250  0.310417\n",
       "4     59  3.806250  4.203125  0.709375  0.396875"
      ]
     },
     "execution_count": 8,
     "metadata": {},
     "output_type": "execute_result"
    }
   ],
   "source": [
    "raw_notes = midi_to_notes(sample_file)\n",
    "raw_notes.head()"
   ]
  },
  {
   "cell_type": "markdown",
   "id": "d13a5dd4-ddc8-4fbf-a1c2-392feaa6aa62",
   "metadata": {},
   "source": [
    "Try printing the names of some sample notes."
   ]
  },
  {
   "cell_type": "code",
   "execution_count": 9,
   "id": "f6ca9522-5582-4770-aee6-a33051026a03",
   "metadata": {},
   "outputs": [
    {
     "name": "stdout",
     "output_type": "stream",
     "text": [
      "['G4' 'F4' 'D#4' 'C#4' 'B3']\n"
     ]
    }
   ],
   "source": [
    "get_note_names = np.vectorize(pretty_midi.note_number_to_name)\n",
    "sample_note_names = get_note_names(raw_notes['pitch'])\n",
    "print(sample_note_names[:5])"
   ]
  },
  {
   "cell_type": "markdown",
   "id": "14ec698a-46a2-4bcc-abdf-633fafeac53f",
   "metadata": {},
   "source": [
    "Add a utility function for generating and writting a MIDI file from a note dataframe."
   ]
  },
  {
   "cell_type": "code",
   "execution_count": 10,
   "id": "89a3adb5-6966-4bd4-8eb8-3eb1354d4d57",
   "metadata": {},
   "outputs": [],
   "source": [
    "def notes_to_midi(notes, out_file, instrument_name, velocity=100) -> pretty_midi.PrettyMIDI:\n",
    "    pm = pretty_midi.PrettyMIDI()\n",
    "    program = pretty_midi.instrument_name_to_program(instrument_name)\n",
    "    instrument = pretty_midi.Instrument(program=program)\n",
    "    prev_start = 0\n",
    "    \n",
    "    for i, note in notes.iterrows():\n",
    "        start = float(prev_start + note['step'])\n",
    "        end = float(start + note['duration'])\n",
    "        note_pm = pretty_midi.Note(velocity=velocity, pitch=int(note['pitch']), start=start, end=end)\n",
    "        instrument.notes.append(note_pm)\n",
    "        prev_start = start\n",
    "        \n",
    "    pm.instruments.append(instrument)\n",
    "    pm.write(out_file)\n",
    "    return pm"
   ]
  },
  {
   "cell_type": "markdown",
   "id": "33a542df-f094-435a-bdf0-f257288777dc",
   "metadata": {},
   "source": [
    "For higher efficiency while training the model, we will use `tf.data` to parse and manage our dataset."
   ]
  },
  {
   "cell_type": "code",
   "execution_count": 11,
   "id": "28ca9fdf-4cf9-420a-a8d8-bb56fd810691",
   "metadata": {},
   "outputs": [
    {
     "name": "stdout",
     "output_type": "stream",
     "text": [
      "Number of notes parsed: 306704\n"
     ]
    },
    {
     "data": {
      "text/plain": [
       "TensorSpec(shape=(3,), dtype=tf.float64, name=None)"
      ]
     },
     "execution_count": 11,
     "metadata": {},
     "output_type": "execute_result"
    }
   ],
   "source": [
    "num_files = 50\n",
    "all_notes = []\n",
    "\n",
    "for file in filenames[:num_files]:\n",
    "    notes = midi_to_notes(file)\n",
    "    all_notes.append(notes)\n",
    "    \n",
    "all_notes = pd.concat(all_notes)\n",
    "num_notes = len(all_notes)\n",
    "print('Number of notes parsed: {}'.format(num_notes))\n",
    "\n",
    "key_order = ['pitch', 'step', 'duration']\n",
    "train_notes = np.stack([all_notes[key] for key in key_order], axis=1)\n",
    "\n",
    "notes_ds = tf.data.Dataset.from_tensor_slices(train_notes)\n",
    "notes_ds.element_spec"
   ]
  },
  {
   "cell_type": "code",
   "execution_count": 12,
   "id": "968ceeac-66cb-49f6-a06e-6babbb2b522c",
   "metadata": {},
   "outputs": [
    {
     "data": {
      "text/html": [
       "<div>\n",
       "<style scoped>\n",
       "    .dataframe tbody tr th:only-of-type {\n",
       "        vertical-align: middle;\n",
       "    }\n",
       "\n",
       "    .dataframe tbody tr th {\n",
       "        vertical-align: top;\n",
       "    }\n",
       "\n",
       "    .dataframe thead th {\n",
       "        text-align: right;\n",
       "    }\n",
       "</style>\n",
       "<table border=\"1\" class=\"dataframe\">\n",
       "  <thead>\n",
       "    <tr style=\"text-align: right;\">\n",
       "      <th></th>\n",
       "      <th>pitch</th>\n",
       "      <th>start</th>\n",
       "      <th>end</th>\n",
       "      <th>step</th>\n",
       "      <th>duration</th>\n",
       "    </tr>\n",
       "  </thead>\n",
       "  <tbody>\n",
       "    <tr>\n",
       "      <th>0</th>\n",
       "      <td>67</td>\n",
       "      <td>1.000000</td>\n",
       "      <td>1.590625</td>\n",
       "      <td>0.000000</td>\n",
       "      <td>0.590625</td>\n",
       "    </tr>\n",
       "    <tr>\n",
       "      <th>1</th>\n",
       "      <td>65</td>\n",
       "      <td>1.754167</td>\n",
       "      <td>2.130208</td>\n",
       "      <td>0.754167</td>\n",
       "      <td>0.376042</td>\n",
       "    </tr>\n",
       "    <tr>\n",
       "      <th>2</th>\n",
       "      <td>63</td>\n",
       "      <td>2.440625</td>\n",
       "      <td>2.879167</td>\n",
       "      <td>0.686458</td>\n",
       "      <td>0.438542</td>\n",
       "    </tr>\n",
       "    <tr>\n",
       "      <th>3</th>\n",
       "      <td>61</td>\n",
       "      <td>3.096875</td>\n",
       "      <td>3.407292</td>\n",
       "      <td>0.656250</td>\n",
       "      <td>0.310417</td>\n",
       "    </tr>\n",
       "    <tr>\n",
       "      <th>4</th>\n",
       "      <td>59</td>\n",
       "      <td>3.806250</td>\n",
       "      <td>4.203125</td>\n",
       "      <td>0.709375</td>\n",
       "      <td>0.396875</td>\n",
       "    </tr>\n",
       "    <tr>\n",
       "      <th>...</th>\n",
       "      <td>...</td>\n",
       "      <td>...</td>\n",
       "      <td>...</td>\n",
       "      <td>...</td>\n",
       "      <td>...</td>\n",
       "    </tr>\n",
       "    <tr>\n",
       "      <th>2189</th>\n",
       "      <td>60</td>\n",
       "      <td>308.511458</td>\n",
       "      <td>310.297917</td>\n",
       "      <td>0.002083</td>\n",
       "      <td>1.786458</td>\n",
       "    </tr>\n",
       "    <tr>\n",
       "      <th>2190</th>\n",
       "      <td>67</td>\n",
       "      <td>309.253125</td>\n",
       "      <td>311.691667</td>\n",
       "      <td>0.741667</td>\n",
       "      <td>2.438542</td>\n",
       "    </tr>\n",
       "    <tr>\n",
       "      <th>2191</th>\n",
       "      <td>43</td>\n",
       "      <td>309.261458</td>\n",
       "      <td>311.726042</td>\n",
       "      <td>0.008333</td>\n",
       "      <td>2.464583</td>\n",
       "    </tr>\n",
       "    <tr>\n",
       "      <th>2192</th>\n",
       "      <td>62</td>\n",
       "      <td>309.268750</td>\n",
       "      <td>311.719792</td>\n",
       "      <td>0.007292</td>\n",
       "      <td>2.451042</td>\n",
       "    </tr>\n",
       "    <tr>\n",
       "      <th>2193</th>\n",
       "      <td>59</td>\n",
       "      <td>310.347917</td>\n",
       "      <td>311.705208</td>\n",
       "      <td>1.079167</td>\n",
       "      <td>1.357292</td>\n",
       "    </tr>\n",
       "  </tbody>\n",
       "</table>\n",
       "<p>306704 rows × 5 columns</p>\n",
       "</div>"
      ],
      "text/plain": [
       "      pitch       start         end      step  duration\n",
       "0        67    1.000000    1.590625  0.000000  0.590625\n",
       "1        65    1.754167    2.130208  0.754167  0.376042\n",
       "2        63    2.440625    2.879167  0.686458  0.438542\n",
       "3        61    3.096875    3.407292  0.656250  0.310417\n",
       "4        59    3.806250    4.203125  0.709375  0.396875\n",
       "...     ...         ...         ...       ...       ...\n",
       "2189     60  308.511458  310.297917  0.002083  1.786458\n",
       "2190     67  309.253125  311.691667  0.741667  2.438542\n",
       "2191     43  309.261458  311.726042  0.008333  2.464583\n",
       "2192     62  309.268750  311.719792  0.007292  2.451042\n",
       "2193     59  310.347917  311.705208  1.079167  1.357292\n",
       "\n",
       "[306704 rows x 5 columns]"
      ]
     },
     "execution_count": 12,
     "metadata": {},
     "output_type": "execute_result"
    }
   ],
   "source": [
    "all_notes"
   ]
  },
  {
   "cell_type": "code",
   "execution_count": 13,
   "id": "a4aef673-5e9d-47c5-b5ff-fb39f15f3624",
   "metadata": {},
   "outputs": [
    {
     "data": {
      "text/plain": [
       "array([[6.70000000e+01, 0.00000000e+00, 5.90625000e-01],\n",
       "       [6.50000000e+01, 7.54166667e-01, 3.76041667e-01],\n",
       "       [6.30000000e+01, 6.86458333e-01, 4.38541667e-01],\n",
       "       ...,\n",
       "       [4.30000000e+01, 8.33333333e-03, 2.46458333e+00],\n",
       "       [6.20000000e+01, 7.29166667e-03, 2.45104167e+00],\n",
       "       [5.90000000e+01, 1.07916667e+00, 1.35729167e+00]])"
      ]
     },
     "execution_count": 13,
     "metadata": {},
     "output_type": "execute_result"
    }
   ],
   "source": [
    "train_notes"
   ]
  },
  {
   "cell_type": "markdown",
   "id": "c27ac86d-a8d8-4290-836c-b15d509477c4",
   "metadata": {},
   "source": [
    "As the LSTM is a sequential model, the dataset we create will have sequence inputs and outputs. "
   ]
  },
  {
   "cell_type": "code",
   "execution_count": 14,
   "id": "80b05938-0875-4fe3-96b0-3c788ef4eb22",
   "metadata": {},
   "outputs": [],
   "source": [
    "def create_sequence(dataset, seq_length, vocab_size=128) -> tf.data.Dataset:\n",
    "    seq_length = seq_length + 1\n",
    "    windows = dataset.window(seq_length, shift=1, stride=1, drop_remainder=True)\n",
    "    sequences = windows.flat_map(lambda x: x.batch(seq_length, drop_remainder=True))\n",
    "    \n",
    "    def scale_pitch(pitch):\n",
    "        pitch = pitch / [vocab_size, 1.0, 1.0]\n",
    "        return pitch\n",
    "    \n",
    "    def split_label(sequences):\n",
    "        inputs = sequences[:-1]\n",
    "        labels_dense = sequences[-1]\n",
    "        labels = {key: labels_dense[i] for i, key in enumerate(key_order)}\n",
    "        \n",
    "        return scale_pitch(inputs), labels\n",
    "    \n",
    "    return sequences.map(split_label, num_parallel_calls=tf.data.AUTOTUNE)"
   ]
  },
  {
   "cell_type": "code",
   "execution_count": 15,
   "id": "397cc83c-3a61-4666-b5ec-2af9129970e0",
   "metadata": {},
   "outputs": [],
   "source": [
    "seq_length = 25\n",
    "vocab_size = 128\n",
    "seq_ds = create_sequence(notes_ds, seq_length, vocab_size)"
   ]
  },
  {
   "cell_type": "markdown",
   "id": "c0bcf867-8044-416d-8453-ae003406defb",
   "metadata": {},
   "source": [
    "Now specify the batch size and shuffle the dataset."
   ]
  },
  {
   "cell_type": "code",
   "execution_count": 16,
   "id": "a291b74c-f7d3-4f07-8c09-e992ecf16d4d",
   "metadata": {},
   "outputs": [],
   "source": [
    "batch_size = 64\n",
    "buffer_size = num_notes - seq_length\n",
    "train_ds = (seq_ds\n",
    "            .shuffle(buffer_size)\n",
    "            .batch(batch_size, drop_remainder=True)\n",
    "            .cache()\n",
    "            .prefetch(tf.data.experimental.AUTOTUNE))"
   ]
  },
  {
   "cell_type": "markdown",
   "id": "caf2c704-e4f2-4314-9649-a019d2bd041e",
   "metadata": {},
   "source": [
    "## Model Training\n",
    "Before training, we will need to create a custom loss function that works with the step and duration parameters."
   ]
  },
  {
   "cell_type": "code",
   "execution_count": 17,
   "id": "8720d5fd-ed9c-4517-9ddc-6452e90802b7",
   "metadata": {},
   "outputs": [],
   "source": [
    "def mse(y_true, y_pred):\n",
    "    mse = (y_true - y_pred) ** 2\n",
    "    positive_pressure = 10 * tf.maximum(-y_pred, 0.0)\n",
    "    return tf.reduce_mean(mse + positive_pressure)"
   ]
  },
  {
   "cell_type": "markdown",
   "id": "aa12fb31-4d0a-4bef-a7fc-6c3a0ded848c",
   "metadata": {},
   "source": [
    "Now it is time to develop a deep learning model. As mentioned, we will use a LSTM layer with 128 units of dimensionality space to process the data. A fully-connected layer will be added to the end with 3 neurons for pitch, step, and duration respectively. We will use the Sparse Categorical Cross-entropy loss function for the pitch parameters while using the custom-defined mean square error loss for the step and duration parameters. "
   ]
  },
  {
   "cell_type": "code",
   "execution_count": 18,
   "id": "03f65de7-8f4c-411f-809d-14ce3d96a8e5",
   "metadata": {},
   "outputs": [],
   "source": [
    "lr = 0.005\n",
    "\n",
    "inputs = tf.keras.layers.Input((seq_length, 3))\n",
    "x = tf.keras.layers.LSTM(128)(inputs)\n",
    "\n",
    "outputs = {'pitch': tf.keras.layers.Dense(128)(x),\n",
    "          'step': tf.keras.layers.Dense(1)(x),\n",
    "          'duration': tf.keras.layers.Dense(1)(x)}\n",
    "\n",
    "model = tf.keras.Model(inputs, outputs)\n",
    "\n",
    "losses = {'pitch': tf.keras.losses.SparseCategoricalCrossentropy(from_logits=True),\n",
    "         'step': mse,\n",
    "         'duration': mse}\n",
    "\n",
    "optimiser = tf.keras.optimizers.Adam(learning_rate=lr)\n",
    "\n",
    "model.compile(loss=losses, optimizer=optimiser)"
   ]
  },
  {
   "cell_type": "code",
   "execution_count": 19,
   "id": "c2ca62b4-4274-45a0-85d8-6d1a9ba1366e",
   "metadata": {},
   "outputs": [
    {
     "name": "stdout",
     "output_type": "stream",
     "text": [
      "Model: \"model\"\n",
      "__________________________________________________________________________________________________\n",
      " Layer (type)                   Output Shape         Param #     Connected to                     \n",
      "==================================================================================================\n",
      " input_1 (InputLayer)           [(None, 25, 3)]      0           []                               \n",
      "                                                                                                  \n",
      " lstm (LSTM)                    (None, 128)          67584       ['input_1[0][0]']                \n",
      "                                                                                                  \n",
      " dense_2 (Dense)                (None, 1)            129         ['lstm[0][0]']                   \n",
      "                                                                                                  \n",
      " dense (Dense)                  (None, 128)          16512       ['lstm[0][0]']                   \n",
      "                                                                                                  \n",
      " dense_1 (Dense)                (None, 1)            129         ['lstm[0][0]']                   \n",
      "                                                                                                  \n",
      "==================================================================================================\n",
      "Total params: 84,354\n",
      "Trainable params: 84,354\n",
      "Non-trainable params: 0\n",
      "__________________________________________________________________________________________________\n"
     ]
    }
   ],
   "source": [
    "model.summary()"
   ]
  },
  {
   "cell_type": "markdown",
   "id": "0a92078c-fa92-41ff-bdf8-5bdb4bce8494",
   "metadata": {},
   "source": [
    "Define callbacks for model check point and early stopping."
   ]
  },
  {
   "cell_type": "code",
   "execution_count": 20,
   "id": "affaed67-e38c-4ac7-94e6-a21064d9f041",
   "metadata": {},
   "outputs": [],
   "source": [
    "model_checkpoint = tf.keras.callbacks.ModelCheckpoint(filepath='./training_checkpoints/ckpt_{epoch}', save_weights_only=True)\n",
    "early_stopping = tf.keras.callbacks.EarlyStopping(monitor='loss', patience=5, verbose=1, restore_best_weights=True)\n",
    "\n",
    "callbacks = [model_checkpoint, early_stopping]"
   ]
  },
  {
   "cell_type": "markdown",
   "id": "8bd77b6f-3b4b-4a7f-865b-c7e0f9c9439c",
   "metadata": {},
   "source": [
    "Compile and train the model."
   ]
  },
  {
   "cell_type": "code",
   "execution_count": 21,
   "id": "3b697261-2595-4be4-b5d0-f2cbac9a2cd4",
   "metadata": {},
   "outputs": [],
   "source": [
    "model.compile(loss=losses, \n",
    "              loss_weights={'pitch': 0.05, 'step': 1.0, 'duration': 1.0},\n",
    "              optimizer=optimiser)"
   ]
  },
  {
   "cell_type": "markdown",
   "id": "69d57796-6948-495b-abaf-acb797bda462",
   "metadata": {},
   "source": [
    "Train the model for 50 epochs."
   ]
  },
  {
   "cell_type": "code",
   "execution_count": 22,
   "id": "496d4a68-5f03-46bb-bdcc-9f402da88985",
   "metadata": {},
   "outputs": [
    {
     "name": "stdout",
     "output_type": "stream",
     "text": [
      "Epoch 1/50\n",
      "4791/4791 [==============================] - 102s 6ms/step - loss: 0.3422 - dense_2_loss: 0.1050 - dense_loss: 3.9417 - dense_1_loss: 0.0401\n",
      "Epoch 2/50\n",
      "4791/4791 [==============================] - 31s 7ms/step - loss: 0.3333 - dense_2_loss: 0.1021 - dense_loss: 3.8701 - dense_1_loss: 0.0377\n",
      "Epoch 3/50\n",
      "4791/4791 [==============================] - 30s 6ms/step - loss: 0.3289 - dense_2_loss: 0.0998 - dense_loss: 3.8443 - dense_1_loss: 0.0369\n",
      "Epoch 4/50\n",
      "4791/4791 [==============================] - 30s 6ms/step - loss: 0.3247 - dense_2_loss: 0.0977 - dense_loss: 3.8156 - dense_1_loss: 0.0362\n",
      "Epoch 5/50\n",
      "4791/4791 [==============================] - 31s 6ms/step - loss: 0.3229 - dense_2_loss: 0.0970 - dense_loss: 3.7935 - dense_1_loss: 0.0363\n",
      "Epoch 6/50\n",
      "4791/4791 [==============================] - 31s 7ms/step - loss: 0.3197 - dense_2_loss: 0.0954 - dense_loss: 3.7786 - dense_1_loss: 0.0354\n",
      "Epoch 7/50\n",
      "4791/4791 [==============================] - 31s 6ms/step - loss: 0.3171 - dense_2_loss: 0.0938 - dense_loss: 3.7632 - dense_1_loss: 0.0352\n",
      "Epoch 8/50\n",
      "4791/4791 [==============================] - 32s 7ms/step - loss: 0.3172 - dense_2_loss: 0.0938 - dense_loss: 3.7659 - dense_1_loss: 0.0352\n",
      "Epoch 9/50\n",
      "4791/4791 [==============================] - 31s 7ms/step - loss: 0.3163 - dense_2_loss: 0.0936 - dense_loss: 3.7531 - dense_1_loss: 0.0350\n",
      "Epoch 10/50\n",
      "4791/4791 [==============================] - 30s 6ms/step - loss: 0.3134 - dense_2_loss: 0.0917 - dense_loss: 3.7413 - dense_1_loss: 0.0347\n",
      "Epoch 11/50\n",
      "4791/4791 [==============================] - 30s 6ms/step - loss: 0.3133 - dense_2_loss: 0.0922 - dense_loss: 3.7353 - dense_1_loss: 0.0343\n",
      "Epoch 12/50\n",
      "4791/4791 [==============================] - 32s 7ms/step - loss: 0.3135 - dense_2_loss: 0.0915 - dense_loss: 3.7417 - dense_1_loss: 0.0350\n",
      "Epoch 13/50\n",
      "4791/4791 [==============================] - 32s 7ms/step - loss: 0.3100 - dense_2_loss: 0.0901 - dense_loss: 3.7259 - dense_1_loss: 0.0336\n",
      "Epoch 14/50\n",
      "4791/4791 [==============================] - 32s 7ms/step - loss: 0.3084 - dense_2_loss: 0.0888 - dense_loss: 3.7198 - dense_1_loss: 0.0336\n",
      "Epoch 15/50\n",
      "4791/4791 [==============================] - 33s 7ms/step - loss: 0.3066 - dense_2_loss: 0.0882 - dense_loss: 3.7119 - dense_1_loss: 0.0329\n",
      "Epoch 16/50\n",
      "4791/4791 [==============================] - 32s 7ms/step - loss: 0.3062 - dense_2_loss: 0.0878 - dense_loss: 3.7135 - dense_1_loss: 0.0327\n",
      "Epoch 17/50\n",
      "4791/4791 [==============================] - 32s 7ms/step - loss: 0.3049 - dense_2_loss: 0.0870 - dense_loss: 3.7060 - dense_1_loss: 0.0326\n",
      "Epoch 18/50\n",
      "4791/4791 [==============================] - 33s 7ms/step - loss: 0.3035 - dense_2_loss: 0.0860 - dense_loss: 3.7003 - dense_1_loss: 0.0325\n",
      "Epoch 19/50\n",
      "4791/4791 [==============================] - 32s 7ms/step - loss: 0.3026 - dense_2_loss: 0.0856 - dense_loss: 3.6981 - dense_1_loss: 0.0321\n",
      "Epoch 20/50\n",
      "4791/4791 [==============================] - 34s 7ms/step - loss: 0.3021 - dense_2_loss: 0.0852 - dense_loss: 3.6924 - dense_1_loss: 0.0323\n",
      "Epoch 21/50\n",
      "4791/4791 [==============================] - 31s 7ms/step - loss: 0.3033 - dense_2_loss: 0.0865 - dense_loss: 3.7023 - dense_1_loss: 0.0317\n",
      "Epoch 22/50\n",
      "4791/4791 [==============================] - 32s 7ms/step - loss: 0.2993 - dense_2_loss: 0.0840 - dense_loss: 3.6896 - dense_1_loss: 0.0309\n",
      "Epoch 23/50\n",
      "4791/4791 [==============================] - 33s 7ms/step - loss: 0.3010 - dense_2_loss: 0.0852 - dense_loss: 3.6930 - dense_1_loss: 0.0312\n",
      "Epoch 24/50\n",
      "4791/4791 [==============================] - 31s 7ms/step - loss: 0.2996 - dense_2_loss: 0.0845 - dense_loss: 3.6865 - dense_1_loss: 0.0308\n",
      "Epoch 25/50\n",
      "4791/4791 [==============================] - 32s 7ms/step - loss: 0.2967 - dense_2_loss: 0.0823 - dense_loss: 3.6835 - dense_1_loss: 0.0303\n",
      "Epoch 26/50\n",
      "4791/4791 [==============================] - 33s 7ms/step - loss: 0.2985 - dense_2_loss: 0.0837 - dense_loss: 3.6833 - dense_1_loss: 0.0307\n",
      "Epoch 27/50\n",
      "4791/4791 [==============================] - 31s 6ms/step - loss: 0.2962 - dense_2_loss: 0.0817 - dense_loss: 3.6803 - dense_1_loss: 0.0305\n",
      "Epoch 28/50\n",
      "4791/4791 [==============================] - 31s 6ms/step - loss: 0.2978 - dense_2_loss: 0.0829 - dense_loss: 3.6881 - dense_1_loss: 0.0305\n",
      "Epoch 29/50\n",
      "4791/4791 [==============================] - 31s 6ms/step - loss: 0.2970 - dense_2_loss: 0.0831 - dense_loss: 3.6805 - dense_1_loss: 0.0300\n",
      "Epoch 30/50\n",
      "4791/4791 [==============================] - 34s 7ms/step - loss: 0.2992 - dense_2_loss: 0.0844 - dense_loss: 3.6834 - dense_1_loss: 0.0306\n",
      "Epoch 31/50\n",
      "4791/4791 [==============================] - 32s 7ms/step - loss: 0.2959 - dense_2_loss: 0.0821 - dense_loss: 3.6792 - dense_1_loss: 0.0299\n",
      "Epoch 32/50\n",
      "4791/4791 [==============================] - 31s 6ms/step - loss: 0.2985 - dense_2_loss: 0.0827 - dense_loss: 3.6927 - dense_1_loss: 0.0312\n",
      "Epoch 33/50\n",
      "4791/4791 [==============================] - 33s 7ms/step - loss: 0.3109 - dense_2_loss: 0.0915 - dense_loss: 3.7159 - dense_1_loss: 0.0336\n",
      "Epoch 34/50\n",
      "4791/4791 [==============================] - 32s 7ms/step - loss: 0.3020 - dense_2_loss: 0.0863 - dense_loss: 3.6897 - dense_1_loss: 0.0312\n",
      "Epoch 35/50\n",
      "4791/4791 [==============================] - 32s 7ms/step - loss: 0.2984 - dense_2_loss: 0.0829 - dense_loss: 3.6861 - dense_1_loss: 0.0313\n",
      "Epoch 36/50\n",
      "4791/4791 [==============================] - 30s 6ms/step - loss: 0.2959 - dense_2_loss: 0.0812 - dense_loss: 3.6812 - dense_1_loss: 0.0306\n",
      "Epoch 37/50\n",
      "4791/4791 [==============================] - 32s 7ms/step - loss: 0.2953 - dense_2_loss: 0.0818 - dense_loss: 3.6725 - dense_1_loss: 0.0298\n",
      "Epoch 38/50\n",
      "4791/4791 [==============================] - 33s 7ms/step - loss: 0.2933 - dense_2_loss: 0.0806 - dense_loss: 3.6679 - dense_1_loss: 0.0293\n",
      "Epoch 39/50\n",
      "4791/4791 [==============================] - 31s 6ms/step - loss: 0.2941 - dense_2_loss: 0.0807 - dense_loss: 3.6721 - dense_1_loss: 0.0297\n",
      "Epoch 40/50\n",
      "4791/4791 [==============================] - 32s 7ms/step - loss: 0.2971 - dense_2_loss: 0.0811 - dense_loss: 3.6823 - dense_1_loss: 0.0319\n",
      "Epoch 41/50\n",
      "4791/4791 [==============================] - 31s 6ms/step - loss: 0.4249 - dense_2_loss: 0.1576 - dense_loss: 4.4882 - dense_1_loss: 0.0429\n",
      "Epoch 42/50\n",
      "4791/4791 [==============================] - 33s 7ms/step - loss: 0.3976 - dense_2_loss: 0.1365 - dense_loss: 4.3280 - dense_1_loss: 0.0447\n",
      "Epoch 43/50\n",
      "4791/4791 [==============================] - ETA: 0s - loss: 0.4011 - dense_2_loss: 0.1420 - dense_loss: 4.2618 - dense_1_loss: 0.0459Restoring model weights from the end of the best epoch: 38.\n",
      "4791/4791 [==============================] - 32s 7ms/step - loss: 0.4011 - dense_2_loss: 0.1420 - dense_loss: 4.2618 - dense_1_loss: 0.0459\n",
      "Epoch 43: early stopping\n"
     ]
    }
   ],
   "source": [
    "epochs = 50\n",
    "\n",
    "history = model.fit(train_ds, epochs=epochs, callbacks=callbacks)"
   ]
  },
  {
   "cell_type": "markdown",
   "id": "26698a46-52d4-4b14-af08-2e09769b5665",
   "metadata": {},
   "source": [
    "## Musical Note Prediction\n",
    "Now we can use the trained model to generate some musical notes. For starting the iteration of the generation process, we will need to provide a starting sequence of notes upon which the LSTM model can continue to create building blocks and reconstruct more data elements. To create more randomness and avoid the model from picking only the best notes as it will lead to repetitive results, we can make use of the temperature parameter for random note generation."
   ]
  },
  {
   "cell_type": "code",
   "execution_count": 23,
   "id": "97a16880-c804-48ec-b3c9-4b2e70e62195",
   "metadata": {},
   "outputs": [],
   "source": [
    "def predict_next(notes, model, temperature=1.0) -> int:\n",
    "    \n",
    "    # Add the batch dimension\n",
    "    inputs = tf.expand_dims(notes, 0) \n",
    "    \n",
    "    predictions = model.predict(inputs)\n",
    "    pitch_logits = predictions['pitch']\n",
    "    step = predictions['step']\n",
    "    duration = predictions['duration']\n",
    "    \n",
    "    pitch_logits /= temperature\n",
    "    pitch = tf.random.categorical(pitch_logits, num_samples=1)\n",
    "    pitch = tf.squeeze(pitch, axis=-1)\n",
    "    step = tf.squeeze(step, axis=-1)\n",
    "    duration = tf.squeeze(duration, axis=-1)\n",
    "    \n",
    "    step = tf.maximum(0, step)\n",
    "    duration = tf.maximum(0, duration)\n",
    "    \n",
    "    return int(pitch), float(step), float(duration)"
   ]
  },
  {
   "cell_type": "markdown",
   "id": "dd987dbd-5189-4908-80d3-d754c3dbc15f",
   "metadata": {},
   "source": [
    "We can now make use of a random starting sequence with a random temperature value using which the LSTM model can continue to build upon. "
   ]
  },
  {
   "cell_type": "code",
   "execution_count": 24,
   "id": "6a25be14-c817-456e-80be-877105c65229",
   "metadata": {},
   "outputs": [
    {
     "name": "stdout",
     "output_type": "stream",
     "text": [
      "1/1 [==============================] - 1s 583ms/step\n",
      "1/1 [==============================] - 0s 36ms/step\n",
      "1/1 [==============================] - 0s 31ms/step\n",
      "1/1 [==============================] - 0s 29ms/step\n",
      "1/1 [==============================] - 0s 27ms/step\n",
      "1/1 [==============================] - 0s 27ms/step\n",
      "1/1 [==============================] - 0s 27ms/step\n",
      "1/1 [==============================] - 0s 25ms/step\n",
      "1/1 [==============================] - 0s 27ms/step\n",
      "1/1 [==============================] - 0s 29ms/step\n",
      "1/1 [==============================] - 0s 25ms/step\n",
      "1/1 [==============================] - 0s 28ms/step\n",
      "1/1 [==============================] - 0s 26ms/step\n",
      "1/1 [==============================] - 0s 25ms/step\n",
      "1/1 [==============================] - 0s 27ms/step\n",
      "1/1 [==============================] - 0s 26ms/step\n",
      "1/1 [==============================] - 0s 27ms/step\n",
      "1/1 [==============================] - 0s 27ms/step\n",
      "1/1 [==============================] - 0s 27ms/step\n",
      "1/1 [==============================] - 0s 26ms/step\n",
      "1/1 [==============================] - 0s 25ms/step\n",
      "1/1 [==============================] - 0s 28ms/step\n",
      "1/1 [==============================] - 0s 26ms/step\n",
      "1/1 [==============================] - 0s 30ms/step\n",
      "1/1 [==============================] - 0s 28ms/step\n",
      "1/1 [==============================] - 0s 25ms/step\n",
      "1/1 [==============================] - 0s 24ms/step\n",
      "1/1 [==============================] - 0s 25ms/step\n",
      "1/1 [==============================] - 0s 25ms/step\n",
      "1/1 [==============================] - 0s 27ms/step\n",
      "1/1 [==============================] - 0s 25ms/step\n",
      "1/1 [==============================] - 0s 27ms/step\n",
      "1/1 [==============================] - 0s 26ms/step\n",
      "1/1 [==============================] - 0s 27ms/step\n",
      "1/1 [==============================] - 0s 25ms/step\n",
      "1/1 [==============================] - 0s 31ms/step\n",
      "1/1 [==============================] - 0s 27ms/step\n",
      "1/1 [==============================] - 0s 27ms/step\n",
      "1/1 [==============================] - 0s 25ms/step\n",
      "1/1 [==============================] - 0s 27ms/step\n",
      "1/1 [==============================] - 0s 25ms/step\n",
      "1/1 [==============================] - 0s 30ms/step\n",
      "1/1 [==============================] - 0s 27ms/step\n",
      "1/1 [==============================] - 0s 28ms/step\n",
      "1/1 [==============================] - 0s 29ms/step\n",
      "1/1 [==============================] - 0s 28ms/step\n",
      "1/1 [==============================] - 0s 29ms/step\n",
      "1/1 [==============================] - 0s 27ms/step\n",
      "1/1 [==============================] - 0s 25ms/step\n",
      "1/1 [==============================] - 0s 27ms/step\n",
      "1/1 [==============================] - 0s 26ms/step\n",
      "1/1 [==============================] - 0s 26ms/step\n",
      "1/1 [==============================] - 0s 29ms/step\n",
      "1/1 [==============================] - 0s 27ms/step\n",
      "1/1 [==============================] - 0s 28ms/step\n",
      "1/1 [==============================] - 0s 29ms/step\n",
      "1/1 [==============================] - 0s 25ms/step\n",
      "1/1 [==============================] - 0s 27ms/step\n",
      "1/1 [==============================] - 0s 24ms/step\n",
      "1/1 [==============================] - 0s 26ms/step\n",
      "1/1 [==============================] - 0s 28ms/step\n",
      "1/1 [==============================] - 0s 27ms/step\n",
      "1/1 [==============================] - 0s 26ms/step\n",
      "1/1 [==============================] - 0s 28ms/step\n",
      "1/1 [==============================] - 0s 30ms/step\n",
      "1/1 [==============================] - 0s 27ms/step\n",
      "1/1 [==============================] - 0s 35ms/step\n",
      "1/1 [==============================] - 0s 37ms/step\n",
      "1/1 [==============================] - 0s 36ms/step\n",
      "1/1 [==============================] - 0s 31ms/step\n",
      "1/1 [==============================] - 0s 38ms/step\n",
      "1/1 [==============================] - 0s 31ms/step\n",
      "1/1 [==============================] - 0s 36ms/step\n",
      "1/1 [==============================] - 0s 37ms/step\n",
      "1/1 [==============================] - 0s 36ms/step\n",
      "1/1 [==============================] - 0s 44ms/step\n",
      "1/1 [==============================] - 0s 34ms/step\n",
      "1/1 [==============================] - 0s 34ms/step\n",
      "1/1 [==============================] - 0s 33ms/step\n",
      "1/1 [==============================] - 0s 38ms/step\n",
      "1/1 [==============================] - 0s 34ms/step\n",
      "1/1 [==============================] - 0s 29ms/step\n",
      "1/1 [==============================] - 0s 35ms/step\n",
      "1/1 [==============================] - 0s 34ms/step\n",
      "1/1 [==============================] - 0s 39ms/step\n",
      "1/1 [==============================] - 0s 30ms/step\n",
      "1/1 [==============================] - 0s 27ms/step\n",
      "1/1 [==============================] - 0s 31ms/step\n",
      "1/1 [==============================] - 0s 28ms/step\n",
      "1/1 [==============================] - 0s 33ms/step\n",
      "1/1 [==============================] - 0s 47ms/step\n",
      "1/1 [==============================] - 0s 34ms/step\n",
      "1/1 [==============================] - 0s 52ms/step\n",
      "1/1 [==============================] - 0s 30ms/step\n",
      "1/1 [==============================] - 0s 37ms/step\n",
      "1/1 [==============================] - 0s 31ms/step\n",
      "1/1 [==============================] - 0s 38ms/step\n",
      "1/1 [==============================] - 0s 38ms/step\n",
      "1/1 [==============================] - 0s 34ms/step\n",
      "1/1 [==============================] - 0s 30ms/step\n",
      "1/1 [==============================] - 0s 33ms/step\n",
      "1/1 [==============================] - 0s 25ms/step\n",
      "1/1 [==============================] - 0s 25ms/step\n",
      "1/1 [==============================] - 0s 28ms/step\n",
      "1/1 [==============================] - 0s 25ms/step\n",
      "1/1 [==============================] - 0s 24ms/step\n",
      "1/1 [==============================] - 0s 27ms/step\n",
      "1/1 [==============================] - 0s 25ms/step\n",
      "1/1 [==============================] - 0s 27ms/step\n",
      "1/1 [==============================] - 0s 26ms/step\n",
      "1/1 [==============================] - 0s 26ms/step\n",
      "1/1 [==============================] - 0s 30ms/step\n",
      "1/1 [==============================] - 0s 29ms/step\n",
      "1/1 [==============================] - 0s 36ms/step\n",
      "1/1 [==============================] - 0s 31ms/step\n",
      "1/1 [==============================] - 0s 31ms/step\n",
      "1/1 [==============================] - 0s 27ms/step\n",
      "1/1 [==============================] - 0s 27ms/step\n",
      "1/1 [==============================] - 0s 25ms/step\n",
      "1/1 [==============================] - 0s 37ms/step\n"
     ]
    },
    {
     "data": {
      "text/html": [
       "<div>\n",
       "<style scoped>\n",
       "    .dataframe tbody tr th:only-of-type {\n",
       "        vertical-align: middle;\n",
       "    }\n",
       "\n",
       "    .dataframe tbody tr th {\n",
       "        vertical-align: top;\n",
       "    }\n",
       "\n",
       "    .dataframe thead th {\n",
       "        text-align: right;\n",
       "    }\n",
       "</style>\n",
       "<table border=\"1\" class=\"dataframe\">\n",
       "  <thead>\n",
       "    <tr style=\"text-align: right;\">\n",
       "      <th></th>\n",
       "      <th>pitch</th>\n",
       "      <th>step</th>\n",
       "      <th>duration</th>\n",
       "      <th>start</th>\n",
       "      <th>end</th>\n",
       "    </tr>\n",
       "  </thead>\n",
       "  <tbody>\n",
       "    <tr>\n",
       "      <th>0</th>\n",
       "      <td>51</td>\n",
       "      <td>0.168030</td>\n",
       "      <td>0.355413</td>\n",
       "      <td>0.168030</td>\n",
       "      <td>0.523443</td>\n",
       "    </tr>\n",
       "    <tr>\n",
       "      <th>1</th>\n",
       "      <td>98</td>\n",
       "      <td>0.254143</td>\n",
       "      <td>0.304276</td>\n",
       "      <td>0.422173</td>\n",
       "      <td>0.726449</td>\n",
       "    </tr>\n",
       "    <tr>\n",
       "      <th>2</th>\n",
       "      <td>97</td>\n",
       "      <td>0.301444</td>\n",
       "      <td>0.388577</td>\n",
       "      <td>0.723617</td>\n",
       "      <td>1.112194</td>\n",
       "    </tr>\n",
       "    <tr>\n",
       "      <th>3</th>\n",
       "      <td>96</td>\n",
       "      <td>0.306193</td>\n",
       "      <td>0.385979</td>\n",
       "      <td>1.029810</td>\n",
       "      <td>1.415789</td>\n",
       "    </tr>\n",
       "    <tr>\n",
       "      <th>4</th>\n",
       "      <td>97</td>\n",
       "      <td>0.303677</td>\n",
       "      <td>0.376370</td>\n",
       "      <td>1.333487</td>\n",
       "      <td>1.709857</td>\n",
       "    </tr>\n",
       "    <tr>\n",
       "      <th>5</th>\n",
       "      <td>96</td>\n",
       "      <td>0.298658</td>\n",
       "      <td>0.371910</td>\n",
       "      <td>1.632145</td>\n",
       "      <td>2.004055</td>\n",
       "    </tr>\n",
       "    <tr>\n",
       "      <th>6</th>\n",
       "      <td>98</td>\n",
       "      <td>0.293009</td>\n",
       "      <td>0.364048</td>\n",
       "      <td>1.925154</td>\n",
       "      <td>2.289202</td>\n",
       "    </tr>\n",
       "    <tr>\n",
       "      <th>7</th>\n",
       "      <td>101</td>\n",
       "      <td>0.291001</td>\n",
       "      <td>0.369607</td>\n",
       "      <td>2.216155</td>\n",
       "      <td>2.585762</td>\n",
       "    </tr>\n",
       "    <tr>\n",
       "      <th>8</th>\n",
       "      <td>101</td>\n",
       "      <td>0.294002</td>\n",
       "      <td>0.381246</td>\n",
       "      <td>2.510157</td>\n",
       "      <td>2.891403</td>\n",
       "    </tr>\n",
       "    <tr>\n",
       "      <th>9</th>\n",
       "      <td>98</td>\n",
       "      <td>0.295758</td>\n",
       "      <td>0.387834</td>\n",
       "      <td>2.805915</td>\n",
       "      <td>3.193749</td>\n",
       "    </tr>\n",
       "  </tbody>\n",
       "</table>\n",
       "</div>"
      ],
      "text/plain": [
       "   pitch      step  duration     start       end\n",
       "0     51  0.168030  0.355413  0.168030  0.523443\n",
       "1     98  0.254143  0.304276  0.422173  0.726449\n",
       "2     97  0.301444  0.388577  0.723617  1.112194\n",
       "3     96  0.306193  0.385979  1.029810  1.415789\n",
       "4     97  0.303677  0.376370  1.333487  1.709857\n",
       "5     96  0.298658  0.371910  1.632145  2.004055\n",
       "6     98  0.293009  0.364048  1.925154  2.289202\n",
       "7    101  0.291001  0.369607  2.216155  2.585762\n",
       "8    101  0.294002  0.381246  2.510157  2.891403\n",
       "9     98  0.295758  0.387834  2.805915  3.193749"
      ]
     },
     "execution_count": 24,
     "metadata": {},
     "output_type": "execute_result"
    }
   ],
   "source": [
    "temperature = 2.0\n",
    "num_predictions = 120\n",
    "\n",
    "sample_notes = np.stack([raw_notes[key] for key in key_order], axis=1)\n",
    "input_notes = sample_notes[:seq_length] / [vocab_size, 1.0, 1.0]\n",
    "\n",
    "generated_notes = []\n",
    "prev_start = 0\n",
    "\n",
    "for i in range(num_predictions):\n",
    "    pitch, step, duration = predict_next(input_notes, model, temperature)\n",
    "    start = prev_start + step\n",
    "    end = start + duration\n",
    "    input_note = (pitch, step, duration)\n",
    "    generated_notes.append((*input_note, start, end))\n",
    "    input_notes = np.delete(input_notes, 0, axis=0)\n",
    "    input_notes = np.append(input_notes, np.expand_dims(input_note, 0), axis=0)\n",
    "    prev_start = start\n",
    "\n",
    "generated_notes = pd.DataFrame(generated_notes, columns=(*key_order, 'start', 'end'))\n",
    "generated_notes.head(10)"
   ]
  },
  {
   "cell_type": "markdown",
   "id": "aa9c849f-0e67-4137-9400-14c4205868cc",
   "metadata": {},
   "source": [
    "Use the above utility function to write the output to a MIDI file."
   ]
  },
  {
   "cell_type": "code",
   "execution_count": 25,
   "id": "f8f144fa-948d-43c4-aca2-73e63d103978",
   "metadata": {},
   "outputs": [],
   "source": [
    "out_file = 'output.midi'\n",
    "out_pm = notes_to_midi(generated_notes, out_file=out_file, instrument_name=instrument_name)"
   ]
  },
  {
   "cell_type": "markdown",
   "id": "27a3e9b6-8eb0-46e0-85e1-f2b100c059e7",
   "metadata": {},
   "source": [
    "The output file can then be played via any media players that can play MIDI files."
   ]
  }
 ],
 "metadata": {
  "kernelspec": {
   "display_name": "Python 3 (ipykernel)",
   "language": "python",
   "name": "python3"
  },
  "language_info": {
   "codemirror_mode": {
    "name": "ipython",
    "version": 3
   },
   "file_extension": ".py",
   "mimetype": "text/x-python",
   "name": "python",
   "nbconvert_exporter": "python",
   "pygments_lexer": "ipython3",
   "version": "3.9.13"
  }
 },
 "nbformat": 4,
 "nbformat_minor": 5
}
